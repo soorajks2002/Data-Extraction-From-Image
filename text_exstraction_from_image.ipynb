{
  "nbformat": 4,
  "nbformat_minor": 0,
  "metadata": {
    "colab": {
      "provenance": []
    },
    "kernelspec": {
      "name": "python3",
      "display_name": "Python 3"
    },
    "language_info": {
      "name": "python"
    }
  },
  "cells": [
    {
      "cell_type": "code",
      "execution_count": null,
      "metadata": {
        "id": "ex4P6BnfafWv"
      },
      "outputs": [],
      "source": [
        "import requests\n",
        "import base64"
      ]
    },
    {
      "cell_type": "code",
      "source": [
        "payload={'urls': ['MY_IMAGE_URL']}\n",
        "files=[\n",
        "  ('file',('FILE_NAME',open('/content/image.jpeg','rb'),'application/pdf'))\n",
        "]\n",
        "headers = {}"
      ],
      "metadata": {
        "id": "n40LdaX-eej8"
      },
      "execution_count": null,
      "outputs": []
    },
    {
      "cell_type": "code",
      "source": [
        "url = \"https://app.nanonets.com/api/v2/OCR/FullText\"\n",
        "\n",
        "response = requests.request(\"POST\", url, headers=headers, data=payload, files=files, auth=requests.auth.HTTPBasicAuth('I-yhRSzNQmxj8dfhXKUQVA55Wj_1Sqjy', ''))\n",
        "\n",
        "print(response.text)"
      ],
      "metadata": {
        "colab": {
          "base_uri": "https://localhost:8080/"
        },
        "id": "XBt0fGlUeheq",
        "outputId": "dfba074a-3862-41dd-f728-473948d08cb1"
      },
      "execution_count": null,
      "outputs": [
        {
          "output_type": "stream",
          "name": "stdout",
          "text": [
            "{\"results\":[{\"filename\":\"FILE_NAME\",\"page_data\":[{\"page\":0,\"size\":{},\"words\":[{\"text\":\"Elon\",\"xmin\":127,\"ymin\":227,\"xmax\":273,\"ymax\":283},{\"text\":\"Muskbuys\",\"xmin\":296,\"ymin\":226,\"xmax\":648,\"ymax\":301},{\"text\":\"9.2%\",\"xmin\":673,\"ymin\":229,\"xmax\":827,\"ymax\":283},{\"text\":\"stake\",\"xmin\":126,\"ymin\":315,\"xmax\":295,\"ymax\":371},{\"text\":\"worth\",\"xmin\":318,\"ymin\":315,\"xmax\":517,\"ymax\":372},{\"text\":\"$3bn\",\"xmin\":539,\"ymin\":296,\"xmax\":699,\"ymax\":379},{\"text\":\"in\",\"xmin\":720,\"ymin\":314,\"xmax\":788,\"ymax\":372},{\"text\":\"Twitter!\",\"xmin\":127,\"ymin\":404,\"xmax\":396,\"ymax\":461},{\"text\":\"How\",\"xmin\":127,\"ymin\":585,\"xmax\":274,\"ymax\":638},{\"text\":\"much\",\"xmin\":297,\"ymin\":581,\"xmax\":480,\"ymax\":638},{\"text\":\"stake\",\"xmin\":501,\"ymin\":581,\"xmax\":670,\"ymax\":637},{\"text\":\"does\",\"xmin\":693,\"ymin\":581,\"xmax\":834,\"ymax\":638},{\"text\":\"Parag\",\"xmin\":127,\"ymin\":674,\"xmax\":316,\"ymax\":743},{\"text\":\"Agrawal\",\"xmin\":339,\"ymin\":671,\"xmax\":617,\"ymax\":744},{\"text\":\"own?\",\"xmin\":639,\"ymin\":673,\"xmax\":810,\"ymax\":727},{\"text\":\"Only\",\"xmin\":127,\"ymin\":745,\"xmax\":293,\"ymax\":832},{\"text\":\"2.26%!\",\"xmin\":308,\"ymin\":762,\"xmax\":521,\"ymax\":815}],\"raw_text\":\"Elon Muskbuys 9.2% stake worth $3bn in Twitter! How much stake does Parag Agrawal own? Only 2.26%! \"}]},{\"filename\":\"MY_IMAGE_URL\",\"page_data\":[{\"page\":0,\"size\":{},\"words\":[],\"raw_text\":\"\"}]}]}\n"
          ]
        }
      ]
    },
    {
      "cell_type": "code",
      "source": [
        "import requests\n",
        "import base64\n",
        "import json\n",
        "\n",
        "url = \"https://app.nanonets.com/api/v2/OCR/FullText\"\n",
        "\n",
        "payload={'urls': ['MY_IMAGE_URL']}\n",
        "\n",
        "def get_text(img_path) :\n",
        "\n",
        "  files=[\n",
        "    ('file',('FILE_NAME',open(img_path,'rb'),'application/pdf'))\n",
        "  ]\n",
        "  headers = {}\n",
        "  \n",
        "  response = requests.request(\"POST\", url, headers=headers, data=payload, files=files, auth=requests.auth.HTTPBasicAuth('I-yhRSzNQmxj8dfhXKUQVA55Wj_1Sqjy', ''))\n",
        "  \n",
        "  return json.loads(response.text)['results'][0]['page_data'][0]['raw_text']\n"
      ],
      "metadata": {
        "id": "ARPwX4ori6i8"
      },
      "execution_count": null,
      "outputs": []
    },
    {
      "cell_type": "code",
      "source": [
        "print(get_text(\"/content/0.jpeg\"))\n",
        "print(get_text(\"/content/1.jpg\"))\n",
        "print(get_text(\"/content/2.jpg\"))\n",
        "print(get_text(\"/content/3.jpg\"))"
      ],
      "metadata": {
        "id": "v8hJ-LPcmPTk",
        "colab": {
          "base_uri": "https://localhost:8080/"
        },
        "outputId": "c1ea1fbb-375f-4b88-9006-76853f859110"
      },
      "execution_count": null,
      "outputs": [
        {
          "output_type": "stream",
          "name": "stdout",
          "text": [
            "Elon Muskbuys 9.2% stake worth $3bn in Twitter! How much stake does Parag Agrawal own? Only 2.26%! \n",
            "Elon Musk buys 9.2% stake worth $3bn in Twitter! How much stake does Parag Agrawal own? Only 2.26%! \n",
            "Elon Muskbuys 9.2% stake worth $3bn in Twitter! How much stake does Parag Agrawal own? Only 2.26%! \n",
            "Elon Muskbuys 9.2% stake worth $3bn in Twitter! How much stake does Parag Agrawal own? Only 2.26%! \n"
          ]
        }
      ]
    },
    {
      "cell_type": "code",
      "source": [
        "image_path = \"\""
      ],
      "metadata": {
        "id": "1DnXrzYOpus0"
      },
      "execution_count": null,
      "outputs": []
    },
    {
      "cell_type": "code",
      "source": [
        "get_text(image_path)"
      ],
      "metadata": {
        "id": "KTtMge_Zn5dQ"
      },
      "execution_count": null,
      "outputs": []
    }
  ]
}